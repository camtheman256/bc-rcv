{
 "cells": [
  {
   "cell_type": "code",
   "execution_count": 1,
   "metadata": {},
   "outputs": [],
   "source": [
    "# Setup block\n",
    "\n",
    "import pyrankvote\n",
    "import csv\n",
    "\n",
    "# Must be formatted like the question titles in the Engage election\n",
    "single_seat_positions = [\n",
    "    \"President\",\n",
    "    \"Vice President\",\n",
    "    \"Secretary\",\n",
    "    \"Treasurer\",\n",
    "    \"Judicial Chair\",\n",
    "    \"Social Media and Web Chair\",\n",
    "    \"Merch Chair\",\n",
    "    \"Sustainability Chair\",\n",
    "    \"Inclusivity Chair\",\n",
    "    \"Art Chair\",\n",
    "    \"Mural Chair\",\n",
    "    \"Social Spaces Chair\",\n",
    "    \"Music Room Chair\",\n",
    "    \"Makerspace Chair\",\n",
    "    \"Gym and Dance Room Chair\",\n",
    "]\n",
    "\n",
    "multi_seat_positions = {\n",
    "    \"Room Assignment Chair (RAC) - electing 3\": 3,\n",
    "    \"Social Chair - electing 3\": 3,\n",
    "    \"CPW/REX (Rush) Chair - electing 3\": 3,\n",
    "    \"i3 Chair - electing 2\": 2,\n",
    "    \"Alumni Relations Chair - electing 2\": 2,\n",
    "}\n",
    "\n",
    "votes = csv.DictReader(open(\"survey_answers_mit_1216175055.csv\", \"r\"))"
   ]
  },
  {
   "cell_type": "code",
   "execution_count": null,
   "metadata": {},
   "outputs": [],
   "source": []
  }
 ],
 "metadata": {
  "kernelspec": {
   "display_name": "bc-rcv-RiCnTLAK-py3.12",
   "language": "python",
   "name": "python3"
  },
  "language_info": {
   "codemirror_mode": {
    "name": "ipython",
    "version": 3
   },
   "file_extension": ".py",
   "mimetype": "text/x-python",
   "name": "python",
   "nbconvert_exporter": "python",
   "pygments_lexer": "ipython3",
   "version": "3.12.1"
  }
 },
 "nbformat": 4,
 "nbformat_minor": 2
}
