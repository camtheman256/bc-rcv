{
 "cells": [
  {
   "cell_type": "code",
   "execution_count": 1,
   "metadata": {},
   "outputs": [],
   "source": [
    "# Setup block\n",
    "\n",
    "import csv\n",
    "\n",
    "import pyrankvote\n",
    "\n",
    "# Must be formatted like the question titles in the Engage election\n",
    "single_seat_positions = [\n",
    "    \"President\",\n",
    "    \"Vice President\",\n",
    "    \"Secretary\",\n",
    "    \"Treasurer\",\n",
    "    \"Judicial Chair\",\n",
    "    \"Social Media and Web Chair\",\n",
    "    \"Merch Chair\",\n",
    "    \"Sustainability Chair\",\n",
    "    \"Inclusivity Chair\",\n",
    "    \"Art Chair\",\n",
    "    \"Mural Chair\",\n",
    "    \"Social Spaces Chair\",\n",
    "    \"Music Room Chair\",\n",
    "    \"Makerspace Chair\",\n",
    "    \"Gym and Dance Room Chair\",\n",
    "]\n",
    "\n",
    "multi_seat_positions = {\n",
    "    \"Room Assignment Chair (RAC) - electing 3\": 3,\n",
    "    \"Social Chair - electing 3\": 3,\n",
    "    \"CPW/REX (Rush) Chair - electing 3\": 3,\n",
    "    \"i3 Chair - electing 2\": 2,\n",
    "    \"Alumni Relations Chair - electing 2\": 2,\n",
    "}\n",
    "\n",
    "votes = csv.DictReader(open(\"survey_answers_mit_1216175055.csv\", \"r\"))"
   ]
  },
  {
   "cell_type": "code",
   "execution_count": 2,
   "metadata": {},
   "outputs": [
    {
     "data": {
      "text/plain": [
       "{'President': 1,\n",
       " 'Vice President': 1,\n",
       " 'Secretary': 3,\n",
       " 'Treasurer': 1,\n",
       " 'Judicial Chair': 4,\n",
       " 'Social Media and Web Chair': 1,\n",
       " 'Merch Chair': 2,\n",
       " 'Sustainability Chair': 1,\n",
       " 'Inclusivity Chair': 1,\n",
       " 'Art Chair': 1,\n",
       " 'Mural Chair': 1,\n",
       " 'Social Spaces Chair': 3,\n",
       " 'Music Room Chair': 3,\n",
       " 'Makerspace Chair': 4,\n",
       " 'Gym and Dance Room Chair': 4,\n",
       " 'Room Assignment Chair (RAC) - electing 3': 7,\n",
       " 'Social Chair - electing 3': 4,\n",
       " 'CPW/REX (Rush) Chair - electing 3': 5,\n",
       " 'i3 Chair - electing 2': 4,\n",
       " 'Alumni Relations Chair - electing 2': 2}"
      ]
     },
     "execution_count": 2,
     "metadata": {},
     "output_type": "execute_result"
    }
   ],
   "source": [
    "# Figure out how many candidates are running for each position\n",
    "# by using the CSV field names\n",
    "\n",
    "num_candidates_by_position = {}\n",
    "for position in single_seat_positions + list(multi_seat_positions):\n",
    "    num_candidates_by_position[position] = sum(\n",
    "        f.startswith(position) for f in votes.fieldnames\n",
    "    )\n",
    "\n",
    "num_candidates_by_position"
   ]
  },
  {
   "cell_type": "markdown",
   "metadata": {},
   "source": [
    "First collect names of candidates by scanning all rows, and convert into the candidate class that pyrankvote uses.\n",
    "\n",
    "- Columns of ranked votes are in the format `position - rank`, so we look through everyone's votes to collect a set of all the candidates.\n",
    "- This is needed so we can set up the elections properly, in the next block.\n",
    "- We also collect all the ballots at the same time, by just looking at the order which the candidates are listed for each voter."
   ]
  },
  {
   "cell_type": "code",
   "execution_count": 3,
   "metadata": {},
   "outputs": [],
   "source": [
    "candidates_for_positions = {}\n",
    "ballots_for_positions = {}\n",
    "\n",
    "for voter in votes:\n",
    "    for position, num in num_candidates_by_position.items():\n",
    "        ballot = []\n",
    "\n",
    "        for rank in range(1, num + 1):\n",
    "            candidate_name = voter[f\"{position} - {rank}\"]\n",
    "            if candidate_name:\n",
    "                candidate = pyrankvote.Candidate(candidate_name)\n",
    "                candidates_for_positions.setdefault(position, set()).add(candidate)\n",
    "                ballot.append(candidate)\n",
    "\n",
    "        ballots_for_positions.setdefault(position, list()).append(\n",
    "            pyrankvote.Ballot(ballot)\n",
    "        )"
   ]
  },
  {
   "cell_type": "code",
   "execution_count": 4,
   "metadata": {},
   "outputs": [
    {
     "data": {
      "text/plain": [
       "{'President': {<Candidate('Kyna McGill')>},\n",
       " 'Vice President': {<Candidate('Rishika Bansal')>},\n",
       " 'Secretary': {<Candidate('Ekanem Okeke')>,\n",
       "  <Candidate('Mingpei 'Ming' Li')>,\n",
       "  <Candidate('Tasnim Zulfiqar')>},\n",
       " 'Treasurer': {<Candidate('Mackenzie Bivin')>},\n",
       " 'Judicial Chair': {<Candidate('KC')>,\n",
       "  <Candidate('Liam Coy')>,\n",
       "  <Candidate('Richard Zhu')>,\n",
       "  <Candidate('Siddhu Pachipala')>},\n",
       " 'Social Media and Web Chair': {<Candidate('Fernando Valenzuela')>},\n",
       " 'Merch Chair': {<Candidate('Haydn Long ')>, <Candidate('Sophie Thompson')>},\n",
       " 'Sustainability Chair': {<Candidate('Haylea Brock')>},\n",
       " 'Inclusivity Chair': {<Candidate('Emily Wong')>},\n",
       " 'Art Chair': {<Candidate('Mingpei 'Ming' Li')>},\n",
       " 'Mural Chair': {<Candidate('Luka Srsic')>},\n",
       " 'Social Spaces Chair': {<Candidate('Caitlin Ogoe ')>,\n",
       "  <Candidate('Jonathan Liang')>,\n",
       "  <Candidate('Josh Simon')>},\n",
       " 'Music Room Chair': {<Candidate('Alexander Shi Jin')>,\n",
       "  <Candidate('Jay Mancera')>,\n",
       "  <Candidate('Kylee Cogdill')>},\n",
       " 'Makerspace Chair': {<Candidate('Anand John')>,\n",
       "  <Candidate('Eghosa Ohenhen')>,\n",
       "  <Candidate('Jonathan Liang')>,\n",
       "  <Candidate('Julia Hoeffner')>},\n",
       " 'Gym and Dance Room Chair': {<Candidate('Eleni Mowery')>,\n",
       "  <Candidate('Fu Xing Chen')>,\n",
       "  <Candidate('Nicole Li')>,\n",
       "  <Candidate('Ria Verma')>},\n",
       " 'Room Assignment Chair (RAC) - electing 3': {<Candidate('Aarushi Mehrotra')>,\n",
       "  <Candidate('Emily Canales')>,\n",
       "  <Candidate('Katelyn Lam')>,\n",
       "  <Candidate('Maanas Sharma')>,\n",
       "  <Candidate('Maeve Chen (Wolf)')>,\n",
       "  <Candidate('Olivia Chen')>,\n",
       "  <Candidate('Q Rael')>},\n",
       " 'Social Chair - electing 3': {<Candidate('Andrew Welter')>,\n",
       "  <Candidate('Jaclyn Thi')>,\n",
       "  <Candidate('Josh Simon')>,\n",
       "  <Candidate('Rafaa Qanash')>},\n",
       " 'CPW/REX (Rush) Chair - electing 3': {<Candidate('Diego Del Rio')>,\n",
       "  <Candidate('Layla Stanton')>,\n",
       "  <Candidate('Mingpei 'Ming' Li')>,\n",
       "  <Candidate('Siddhu Pachipala')>,\n",
       "  <Candidate('Ximena Carrillo')>},\n",
       " 'i3 Chair - electing 2': {<Candidate('Emily Kang')>,\n",
       "  <Candidate('Jaclyn Thi')>,\n",
       "  <Candidate('Maeve Chen (Wolf)')>,\n",
       "  <Candidate('Skippy 'Thu' Le')>},\n",
       " 'Alumni Relations Chair - electing 2': {<Candidate('Mingpei 'Ming' Li')>,\n",
       "  <Candidate('Olivia Chen')>}}"
      ]
     },
     "execution_count": 4,
     "metadata": {},
     "output_type": "execute_result"
    }
   ],
   "source": [
    "candidates_for_positions"
   ]
  },
  {
   "cell_type": "code",
   "execution_count": null,
   "metadata": {},
   "outputs": [],
   "source": [
    "ballots_for_positions"
   ]
  },
  {
   "cell_type": "code",
   "execution_count": null,
   "metadata": {},
   "outputs": [],
   "source": [
    "# Now, run the elections!\n",
    "\n",
    "elected_gov = {}\n",
    "\n",
    "# Instant Runoff elections for single chair elections\n",
    "\n",
    "for position in single_seat_positions:\n",
    "    election = pyrankvote.instant_runoff_voting(\n",
    "        candidates_for_positions[position], ballots_for_positions[position]\n",
    "    )\n",
    "    winner = election.get_winners()\n",
    "    print(f\"=========== {position.upper()} \" + \"=\"*(25-len(position)))\n",
    "    print(election)\n",
    "    elected_gov[position] = winner"
   ]
  },
  {
   "cell_type": "code",
   "execution_count": null,
   "metadata": {},
   "outputs": [],
   "source": [
    "# Single Transferrable Vote elections for multiple chair elections\n",
    "\n",
    "for position, seats in multi_seat_positions.items():\n",
    "    election = pyrankvote.single_transferable_vote(\n",
    "        candidates_for_positions[position], ballots_for_positions[position], seats\n",
    "    )\n",
    "    winner = election.get_winners()\n",
    "    print(f\"=========== {position.upper()} \" + \"=\" * (50 - len(position)))\n",
    "    print(election)\n",
    "    elected_gov[position] = winner"
   ]
  },
  {
   "cell_type": "code",
   "execution_count": null,
   "metadata": {},
   "outputs": [],
   "source": [
    "# Show the final elected government in nice Markdown!\n",
    "\n",
    "from IPython.display import display, Markdown\n",
    "\n",
    "output = \"# Elected BC Gov\\n\"\n",
    "\n",
    "for position, winners in elected_gov.items():\n",
    "    output += f\"- **{position}:** \" + \", \".join(w.name for w in winners) + \"\\n\"\n",
    "\n",
    "display(Markdown(output))\n",
    "\n"
   ]
  }
 ],
 "metadata": {
  "kernelspec": {
   "display_name": "bc-rcv-RiCnTLAK-py3.12",
   "language": "python",
   "name": "python3"
  },
  "language_info": {
   "codemirror_mode": {
    "name": "ipython",
    "version": 3
   },
   "file_extension": ".py",
   "mimetype": "text/x-python",
   "name": "python",
   "nbconvert_exporter": "python",
   "pygments_lexer": "ipython3",
   "version": "3.12.1"
  }
 },
 "nbformat": 4,
 "nbformat_minor": 2
}
