{
 "cells": [
  {
   "cell_type": "code",
   "execution_count": 13,
   "metadata": {},
   "outputs": [],
   "source": [
    "# Setup block\n",
    "\n",
    "import pyrankvote\n",
    "import csv\n",
    "\n",
    "# Must be formatted like the question titles in the Engage election\n",
    "single_seat_positions = [\n",
    "    \"President\",\n",
    "    \"Vice President\",\n",
    "    \"Secretary\",\n",
    "    \"Treasurer\",\n",
    "    \"Judicial Chair\",\n",
    "    \"Social Media and Web Chair\",\n",
    "    \"Merch Chair\",\n",
    "    \"Sustainability Chair\",\n",
    "    \"Inclusivity Chair\",\n",
    "    \"Art Chair\",\n",
    "    \"Mural Chair\",\n",
    "    \"Social Spaces Chair\",\n",
    "    \"Music Room Chair\",\n",
    "    \"Makerspace Chair\",\n",
    "    \"Gym and Dance Room Chair\",\n",
    "]\n",
    "\n",
    "multi_seat_positions = {\n",
    "    \"Room Assignment Chair (RAC) - electing 3\": 3,\n",
    "    \"Social Chair - electing 3\": 3,\n",
    "    \"CPW/REX (Rush) Chair - electing 3\": 3,\n",
    "    \"i3 Chair - electing 2\": 2,\n",
    "    \"Alumni Relations Chair - electing 2\": 2,\n",
    "}\n",
    "\n",
    "votes = csv.DictReader(open(\"survey_answers_mit_1216175055.csv\", \"r\"))"
   ]
  },
  {
   "cell_type": "code",
   "execution_count": 15,
   "metadata": {},
   "outputs": [
    {
     "data": {
      "text/plain": [
       "{'President': 1,\n",
       " 'Vice President': 1,\n",
       " 'Secretary': 3,\n",
       " 'Treasurer': 1,\n",
       " 'Judicial Chair': 4,\n",
       " 'Social Media and Web Chair': 1,\n",
       " 'Merch Chair': 2,\n",
       " 'Sustainability Chair': 1,\n",
       " 'Inclusivity Chair': 1,\n",
       " 'Art Chair': 1,\n",
       " 'Mural Chair': 1,\n",
       " 'Social Spaces Chair': 3,\n",
       " 'Music Room Chair': 3,\n",
       " 'Makerspace Chair': 4,\n",
       " 'Gym and Dance Room Chair': 4,\n",
       " 'Room Assignment Chair (RAC) - electing 3': 7,\n",
       " 'Social Chair - electing 3': 4,\n",
       " 'CPW/REX (Rush) Chair - electing 3': 5,\n",
       " 'i3 Chair - electing 2': 4,\n",
       " 'Alumni Relations Chair - electing 2': 2}"
      ]
     },
     "execution_count": 15,
     "metadata": {},
     "output_type": "execute_result"
    }
   ],
   "source": [
    "# Figure out how many candidates are running for each position\n",
    "# by using the CSV field names\n",
    "\n",
    "candidates_by_position = {}\n",
    "for position in single_seat_positions + list(multi_seat_positions):\n",
    "    candidates_by_position[position] = sum(\n",
    "        f.startswith(position) for f in votes.fieldnames\n",
    "    )\n",
    "\n",
    "candidates_by_position"
   ]
  },
  {
   "cell_type": "code",
   "execution_count": null,
   "metadata": {},
   "outputs": [],
   "source": []
  }
 ],
 "metadata": {
  "kernelspec": {
   "display_name": "bc-rcv-RiCnTLAK-py3.12",
   "language": "python",
   "name": "python3"
  },
  "language_info": {
   "codemirror_mode": {
    "name": "ipython",
    "version": 3
   },
   "file_extension": ".py",
   "mimetype": "text/x-python",
   "name": "python",
   "nbconvert_exporter": "python",
   "pygments_lexer": "ipython3",
   "version": "3.12.1"
  }
 },
 "nbformat": 4,
 "nbformat_minor": 2
}
